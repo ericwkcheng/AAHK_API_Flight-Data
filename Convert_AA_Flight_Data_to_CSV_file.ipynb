{
 "cells": [
  {
   "cell_type": "code",
   "execution_count": 1,
   "metadata": {},
   "outputs": [
    {
     "name": "stdout",
     "output_type": "stream",
     "text": [
      "2020-06-15-flight data.csv \n",
      "The file is downloaded\n"
     ]
    }
   ],
   "source": [
    "# Only can retrieve flight data from D-91 to D+14 (YYYY-MM-DD)\n",
    "\n",
    "# Data Dictionary : https://www.hongkongairport.com/iwov-resources/misc/opendata/Flight_Information_DataSpec_en.pdf\n",
    "\n",
    "# Remember to edit the link below\n",
    "\n",
    "import requests\n",
    "import json\n",
    "import pandas as pd\n",
    "import urllib.request\n",
    "\n",
    "r = requests.get('https://www.hongkongairport.com/flightinfo-rest/rest/flights/past?date=2020-06-15lang=en&cargo=false&arrival=false')\n",
    "text_string = r.json()\n",
    "\n",
    "dataList = []\n",
    "for item in text_string:\n",
    "    for flightdata in item['list']:\n",
    "        dataList.append(flightdata)\n",
    "        \n",
    "convert_to_json = json.dumps(dataList)\n",
    "\n",
    "df = pd.read_json(convert_to_json)\n",
    "\n",
    "convert_to_json_original_df = json.dumps(text_string, indent = 3)\n",
    "original_df = pd.read_json(convert_to_json_original_df)\n",
    "\n",
    "total_rows = len(df)\n",
    "\n",
    "finalized_df = pd.concat([original_df]*total_rows, ignore_index=True)\n",
    "\n",
    "result = pd.concat([finalized_df, df], axis=1)\n",
    "\n",
    "result = result.drop(columns=['list'])\n",
    "\n",
    "flight_date = result.iloc[0][\"date\"]\n",
    "flight_date = str(flight_date)\n",
    "flight_date = flight_date[:-9]\n",
    "\n",
    "result.to_csv(flight_date+'-flight data.csv', index = None, header = True, encoding='utf-8')\n",
    "print(flight_date+'-flight data.csv', \"\\nThe file is downloaded\")"
   ]
  },
  {
   "cell_type": "code",
   "execution_count": null,
   "metadata": {},
   "outputs": [],
   "source": []
  }
 ],
 "metadata": {
  "kernelspec": {
   "display_name": "Python 3",
   "language": "python",
   "name": "python3"
  },
  "language_info": {
   "codemirror_mode": {
    "name": "ipython",
    "version": 3
   },
   "file_extension": ".py",
   "mimetype": "text/x-python",
   "name": "python",
   "nbconvert_exporter": "python",
   "pygments_lexer": "ipython3",
   "version": "3.7.6"
  }
 },
 "nbformat": 4,
 "nbformat_minor": 4
}
